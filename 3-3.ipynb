{
 "cells": [
  {
   "cell_type": "markdown",
   "id": "1d6f17ff-ecce-4418-a931-c082f3118b13",
   "metadata": {},
   "source": [
    "### 특성공학과 규제\n",
    "\n",
    "- 다중회귀 : 여러 특성을 사용한 선형회귀. n차원"
   ]
  },
  {
   "cell_type": "code",
   "execution_count": 6,
   "id": "929f9112-a6b6-4339-a1a5-fff7445ede63",
   "metadata": {},
   "outputs": [
    {
     "data": {
      "text/html": [
       "<div>\n",
       "<style scoped>\n",
       "    .dataframe tbody tr th:only-of-type {\n",
       "        vertical-align: middle;\n",
       "    }\n",
       "\n",
       "    .dataframe tbody tr th {\n",
       "        vertical-align: top;\n",
       "    }\n",
       "\n",
       "    .dataframe thead th {\n",
       "        text-align: right;\n",
       "    }\n",
       "</style>\n",
       "<table border=\"1\" class=\"dataframe\">\n",
       "  <thead>\n",
       "    <tr style=\"text-align: right;\">\n",
       "      <th></th>\n",
       "      <th>Species</th>\n",
       "      <th>Weight</th>\n",
       "      <th>Length1</th>\n",
       "      <th>Length2</th>\n",
       "      <th>Length3</th>\n",
       "      <th>Height</th>\n",
       "      <th>Width</th>\n",
       "    </tr>\n",
       "  </thead>\n",
       "  <tbody>\n",
       "    <tr>\n",
       "      <th>72</th>\n",
       "      <td>Perch</td>\n",
       "      <td>5.9</td>\n",
       "      <td>7.5</td>\n",
       "      <td>8.4</td>\n",
       "      <td>8.8</td>\n",
       "      <td>2.1120</td>\n",
       "      <td>1.4080</td>\n",
       "    </tr>\n",
       "    <tr>\n",
       "      <th>73</th>\n",
       "      <td>Perch</td>\n",
       "      <td>32.0</td>\n",
       "      <td>12.5</td>\n",
       "      <td>13.7</td>\n",
       "      <td>14.7</td>\n",
       "      <td>3.5280</td>\n",
       "      <td>1.9992</td>\n",
       "    </tr>\n",
       "    <tr>\n",
       "      <th>74</th>\n",
       "      <td>Perch</td>\n",
       "      <td>40.0</td>\n",
       "      <td>13.8</td>\n",
       "      <td>15.0</td>\n",
       "      <td>16.0</td>\n",
       "      <td>3.8240</td>\n",
       "      <td>2.4320</td>\n",
       "    </tr>\n",
       "    <tr>\n",
       "      <th>75</th>\n",
       "      <td>Perch</td>\n",
       "      <td>51.5</td>\n",
       "      <td>15.0</td>\n",
       "      <td>16.2</td>\n",
       "      <td>17.2</td>\n",
       "      <td>4.5924</td>\n",
       "      <td>2.6316</td>\n",
       "    </tr>\n",
       "    <tr>\n",
       "      <th>76</th>\n",
       "      <td>Perch</td>\n",
       "      <td>70.0</td>\n",
       "      <td>15.7</td>\n",
       "      <td>17.4</td>\n",
       "      <td>18.5</td>\n",
       "      <td>4.5880</td>\n",
       "      <td>2.9415</td>\n",
       "    </tr>\n",
       "  </tbody>\n",
       "</table>\n",
       "</div>"
      ],
      "text/plain": [
       "   Species  Weight  Length1  Length2  Length3  Height   Width\n",
       "72   Perch     5.9      7.5      8.4      8.8  2.1120  1.4080\n",
       "73   Perch    32.0     12.5     13.7     14.7  3.5280  1.9992\n",
       "74   Perch    40.0     13.8     15.0     16.0  3.8240  2.4320\n",
       "75   Perch    51.5     15.0     16.2     17.2  4.5924  2.6316\n",
       "76   Perch    70.0     15.7     17.4     18.5  4.5880  2.9415"
      ]
     },
     "execution_count": 6,
     "metadata": {},
     "output_type": "execute_result"
    }
   ],
   "source": [
    "import pandas as pd\n",
    "\n",
    "df = pd.read_csv('data/Fish.csv')\n",
    "perch_df = df.loc[df['Species'] == 'Perch']\n",
    "perch_df.head()"
   ]
  },
  {
   "cell_type": "code",
   "execution_count": 7,
   "id": "bbaf78bc-f19d-4257-8ee2-8bff27ec7861",
   "metadata": {},
   "outputs": [],
   "source": [
    "perch_full = perch_df[['Length2', 'Height', 'Width']]\n",
    "perch_weight = perch_df[['Weight']]"
   ]
  },
  {
   "cell_type": "code",
   "execution_count": 11,
   "id": "9b62eb2d-08a9-42bb-962a-66cfe4de5839",
   "metadata": {},
   "outputs": [],
   "source": [
    "from sklearn.model_selection import train_test_split\n",
    "train_input, test_input, train_target, test_target = \\\n",
    "train_test_split(perch_full, perch_weight)"
   ]
  },
  {
   "cell_type": "code",
   "execution_count": 15,
   "id": "0cb60e4e-4be4-4789-835f-f4e67945473d",
   "metadata": {},
   "outputs": [
    {
     "data": {
      "text/plain": [
       "array([[ 3.,  5.,  9., 15., 25.]])"
      ]
     },
     "execution_count": 15,
     "metadata": {},
     "output_type": "execute_result"
    }
   ],
   "source": [
    "from sklearn.preprocessing import PolynomialFeatures\n",
    "\n",
    "poly = PolynomialFeatures(include_bias=False)\n",
    "#인클루드 1 빼줌\n",
    "poly.fit([[3, 5]])\n",
    "poly.transform([[3, 5]])"
   ]
  },
  {
   "cell_type": "code",
   "execution_count": 18,
   "id": "c0a7b3e1-3f75-4b4f-85bd-0ecdd3996b83",
   "metadata": {},
   "outputs": [
    {
     "data": {
      "text/plain": [
       "(42, 9)"
      ]
     },
     "execution_count": 18,
     "metadata": {},
     "output_type": "execute_result"
    }
   ],
   "source": [
    "poly = PolynomialFeatures(include_bias=False)\n",
    "poly.fit(train_input)\n",
    "train_poly = poly.transform(train_input)\n",
    "train_poly[:5]\n",
    "train_poly.shape"
   ]
  },
  {
   "cell_type": "code",
   "execution_count": 19,
   "id": "66a52fd3-b750-47ee-bebf-0210116bd505",
   "metadata": {},
   "outputs": [
    {
     "data": {
      "text/plain": [
       "array(['Length2', 'Height', 'Width', 'Length2^2', 'Length2 Height',\n",
       "       'Length2 Width', 'Height^2', 'Height Width', 'Width^2'],\n",
       "      dtype=object)"
      ]
     },
     "execution_count": 19,
     "metadata": {},
     "output_type": "execute_result"
    }
   ],
   "source": [
    "poly.get_feature_names_out()"
   ]
  },
  {
   "cell_type": "code",
   "execution_count": 20,
   "id": "f43f92d2-ab86-4156-812e-631c7590b8f4",
   "metadata": {},
   "outputs": [
    {
     "data": {
      "text/plain": [
       "0.9892511216385522"
      ]
     },
     "execution_count": 20,
     "metadata": {},
     "output_type": "execute_result"
    }
   ],
   "source": [
    "from sklearn.linear_model import LinearRegression\n",
    "\n",
    "lr = LinearRegression()\n",
    "lr.fit(train_poly, train_target)\n",
    "lr.score(train_poly, train_target)"
   ]
  },
  {
   "cell_type": "code",
   "execution_count": 21,
   "id": "a1333a6d-d4d7-42e4-97e6-665c5c6c247e",
   "metadata": {},
   "outputs": [],
   "source": [
    "test_poly = poly.transform(test_input)"
   ]
  },
  {
   "cell_type": "code",
   "execution_count": 23,
   "id": "2449c3ab-5382-48a1-8eb8-84133ef582d1",
   "metadata": {},
   "outputs": [
    {
     "data": {
      "text/plain": [
       "0.9848514230090946"
      ]
     },
     "execution_count": 23,
     "metadata": {},
     "output_type": "execute_result"
    }
   ],
   "source": [
    "lr.score(test_poly, test_target)"
   ]
  },
  {
   "cell_type": "code",
   "execution_count": null,
   "id": "3cdfa4a2-09a6-457c-a8ca-0e5b9d52a746",
   "metadata": {},
   "outputs": [],
   "source": []
  },
  {
   "cell_type": "code",
   "execution_count": null,
   "id": "1378614d-21bc-4761-9539-2aa90f6ed21f",
   "metadata": {},
   "outputs": [],
   "source": []
  },
  {
   "cell_type": "code",
   "execution_count": null,
   "id": "112edf4b-bc96-4187-91eb-c9857b0a6982",
   "metadata": {},
   "outputs": [],
   "source": []
  },
  {
   "cell_type": "code",
   "execution_count": null,
   "id": "50808592-6794-456c-a89f-7cb6403a7694",
   "metadata": {},
   "outputs": [],
   "source": []
  },
  {
   "cell_type": "code",
   "execution_count": null,
   "id": "0842c4a5-1bc7-4c54-b2f2-7367d1680c2b",
   "metadata": {},
   "outputs": [],
   "source": []
  },
  {
   "cell_type": "code",
   "execution_count": null,
   "id": "cc78fa3e-25af-439d-924f-faa25ce8084e",
   "metadata": {},
   "outputs": [],
   "source": []
  },
  {
   "cell_type": "code",
   "execution_count": null,
   "id": "dde08925-8d1a-447a-a84a-5eb3582cb59c",
   "metadata": {},
   "outputs": [],
   "source": []
  },
  {
   "cell_type": "code",
   "execution_count": null,
   "id": "1b9bfe58-a6a8-4c4a-89b2-8084a4dbb1fd",
   "metadata": {},
   "outputs": [],
   "source": []
  },
  {
   "cell_type": "code",
   "execution_count": null,
   "id": "863ce298-96f6-4f0a-8d36-c9edc7d6de02",
   "metadata": {},
   "outputs": [],
   "source": []
  },
  {
   "cell_type": "code",
   "execution_count": null,
   "id": "eb5f83ff-ff5d-454a-a433-59ce63acf28c",
   "metadata": {},
   "outputs": [],
   "source": []
  },
  {
   "cell_type": "code",
   "execution_count": null,
   "id": "11b0b0bd-f09d-41e7-aa56-05ba4b0846bf",
   "metadata": {},
   "outputs": [],
   "source": []
  },
  {
   "cell_type": "code",
   "execution_count": null,
   "id": "1246d712-7f7a-430b-a58f-6d91df4e5828",
   "metadata": {},
   "outputs": [],
   "source": []
  }
 ],
 "metadata": {
  "kernelspec": {
   "display_name": "Python 3 (ipykernel)",
   "language": "python",
   "name": "python3"
  },
  "language_info": {
   "codemirror_mode": {
    "name": "ipython",
    "version": 3
   },
   "file_extension": ".py",
   "mimetype": "text/x-python",
   "name": "python",
   "nbconvert_exporter": "python",
   "pygments_lexer": "ipython3",
   "version": "3.13.2"
  }
 },
 "nbformat": 4,
 "nbformat_minor": 5
}
