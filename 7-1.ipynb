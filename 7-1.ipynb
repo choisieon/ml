{
 "cells": [
  {
   "cell_type": "markdown",
   "id": "da635db4-bc89-4469-a6df-4857a15db201",
   "metadata": {},
   "source": [
    "## 딥러닝 - 인공신경망\n",
    "- 머신러닝의 하위 종목"
   ]
  },
  {
   "cell_type": "code",
   "execution_count": null,
   "id": "93de4e24-7d5b-48af-9496-467460907597",
   "metadata": {},
   "outputs": [],
   "source": []
  }
 ],
 "metadata": {
  "kernelspec": {
   "display_name": "Python 3 (ipykernel)",
   "language": "python",
   "name": "python3"
  },
  "language_info": {
   "codemirror_mode": {
    "name": "ipython",
    "version": 3
   },
   "file_extension": ".py",
   "mimetype": "text/x-python",
   "name": "python",
   "nbconvert_exporter": "python",
   "pygments_lexer": "ipython3",
   "version": "3.13.2"
  }
 },
 "nbformat": 4,
 "nbformat_minor": 5
}
