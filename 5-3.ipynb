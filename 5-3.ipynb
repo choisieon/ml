{
 "cells": [
  {
   "cell_type": "markdown",
   "id": "5b8e6c42-2b49-4914-8297-81b7962cf515",
   "metadata": {},
   "source": [
    "## random forest(랜덤 포레스트)\n",
    "\n",
    "- 정형 데이터에서 효율적, 표 형태 안에 숫자데이터를 가지면 -> 정형 데이터 ex)엑셀\n",
    "- 뽑은 것을 다시 넣음(중복) 그러한 트리 구조를 숲으로 만들어 평균냈을 때 결과가 더 좋음"
   ]
  },
  {
   "cell_type": "code",
   "execution_count": 3,
   "id": "cbfee91d-25b5-471f-9ed9-39068f2216d4",
   "metadata": {},
   "outputs": [],
   "source": [
    "import pandas as pd\n",
    "\n",
    "df = pd.read_csv('http://bit.ly/wine_csv_data')\n",
    "\n",
    "data = df[['alcohol', 'sugar', 'pH']]\n",
    "\n",
    "target = df[['class']]"
   ]
  },
  {
   "cell_type": "code",
   "execution_count": 19,
   "id": "7438dea2-dfdf-4a36-9693-4867c361ada0",
   "metadata": {},
   "outputs": [],
   "source": [
    "from sklearn.model_selection import train_test_split\n",
    "train_input, test_input, train_target, test_target =\\\n",
    "train_test_split(data, target)"
   ]
  },
  {
   "cell_type": "code",
   "execution_count": 9,
   "id": "d93b228b-08ed-407a-a75b-a42f350e3eb7",
   "metadata": {},
   "outputs": [
    {
     "name": "stderr",
     "output_type": "stream",
     "text": [
      "/Users/choesieon/Desktop/ml/venv/lib/python3.13/site-packages/sklearn/base.py:1389: DataConversionWarning: A column-vector y was passed when a 1d array was expected. Please change the shape of y to (n_samples,), for example using ravel().\n",
      "  return fit_method(estimator, *args, **kwargs)\n",
      "/Users/choesieon/Desktop/ml/venv/lib/python3.13/site-packages/sklearn/base.py:1389: DataConversionWarning: A column-vector y was passed when a 1d array was expected. Please change the shape of y to (n_samples,), for example using ravel().\n",
      "  return fit_method(estimator, *args, **kwargs)\n",
      "/Users/choesieon/Desktop/ml/venv/lib/python3.13/site-packages/sklearn/base.py:1389: DataConversionWarning: A column-vector y was passed when a 1d array was expected. Please change the shape of y to (n_samples,), for example using ravel().\n",
      "  return fit_method(estimator, *args, **kwargs)\n",
      "/Users/choesieon/Desktop/ml/venv/lib/python3.13/site-packages/sklearn/base.py:1389: DataConversionWarning: A column-vector y was passed when a 1d array was expected. Please change the shape of y to (n_samples,), for example using ravel().\n",
      "  return fit_method(estimator, *args, **kwargs)\n",
      "/Users/choesieon/Desktop/ml/venv/lib/python3.13/site-packages/sklearn/base.py:1389: DataConversionWarning: A column-vector y was passed when a 1d array was expected. Please change the shape of y to (n_samples,), for example using ravel().\n",
      "  return fit_method(estimator, *args, **kwargs)\n"
     ]
    },
    {
     "name": "stdout",
     "output_type": "stream",
     "text": [
      "{'fit_time': array([0.30677104, 0.26032805, 0.25803018, 0.26007223, 0.2602849 ]), 'score_time': array([0.01668406, 0.01647305, 0.0168519 , 0.01643586, 0.01647902]), 'test_score': array([0.88923077, 0.88307692, 0.87474333, 0.8973306 , 0.89014374]), 'train_score': array([0.99743392, 0.99717732, 0.99769112, 0.99743458, 0.99769112])}\n"
     ]
    }
   ],
   "source": [
    "from sklearn.model_selection import cross_validate\n",
    "from sklearn.ensemble import RandomForestClassifier\n",
    "\n",
    "rf = RandomForestClassifier(n_jobs=1)\n",
    "scores = cross_validate(rf, train_input, train_target, return_train_score=True, n_jobs = 1)\n",
    "print(scores)"
   ]
  },
  {
   "cell_type": "code",
   "execution_count": 15,
   "id": "e2dde9c5-9c6a-4172-9295-f4230065836a",
   "metadata": {},
   "outputs": [
    {
     "name": "stderr",
     "output_type": "stream",
     "text": [
      "/Users/choesieon/Desktop/ml/venv/lib/python3.13/site-packages/sklearn/base.py:1389: DataConversionWarning: A column-vector y was passed when a 1d array was expected. Please change the shape of y to (n_samples,), for example using ravel().\n",
      "  return fit_method(estimator, *args, **kwargs)\n"
     ]
    },
    {
     "name": "stdout",
     "output_type": "stream",
     "text": [
      "[0.23346404 0.49484221 0.27169375]\n"
     ]
    }
   ],
   "source": [
    "rf.fit(train_input, train_target) \n",
    "print(rf.feature_importances_)\n",
    "\n",
    "#레드와인과 화이트와인을 분류하는 중요한 특성을 슈가(0.49)로 본다는 뜻.\n",
    "#과대적합을 줄이고 일반화 가능"
   ]
  },
  {
   "cell_type": "code",
   "execution_count": 18,
   "id": "54d7ce39-9411-45c0-88d1-0422a4ad4b96",
   "metadata": {},
   "outputs": [
    {
     "name": "stderr",
     "output_type": "stream",
     "text": [
      "/Users/choesieon/Desktop/ml/venv/lib/python3.13/site-packages/sklearn/base.py:1389: DataConversionWarning: A column-vector y was passed when a 1d array was expected. Please change the shape of y to (n_samples,), for example using ravel().\n",
      "  return fit_method(estimator, *args, **kwargs)\n"
     ]
    },
    {
     "data": {
      "text/plain": [
       "0.8895730706075534"
      ]
     },
     "execution_count": 18,
     "metadata": {},
     "output_type": "execute_result"
    }
   ],
   "source": [
    "rf = RandomForestClassifier(oob_score=True, n_jobs=1)\n",
    "rf.fit(train_input, train_target)\n",
    "rf.oob_score_\n",
    "\n",
    "#중복 선택으로 인해 선택되지 않은 데이터로 학습. 그런데 점수가 테스트랑 비슷하다? 그럼 잘 한거임."
   ]
  },
  {
   "cell_type": "code",
   "execution_count": 21,
   "id": "3e08cc0c-afef-4ea0-8cd6-e4b06c43c6b5",
   "metadata": {},
   "outputs": [
    {
     "name": "stderr",
     "output_type": "stream",
     "text": [
      "/Users/choesieon/Desktop/ml/venv/lib/python3.13/site-packages/sklearn/base.py:1389: DataConversionWarning: A column-vector y was passed when a 1d array was expected. Please change the shape of y to (n_samples,), for example using ravel().\n",
      "  return fit_method(estimator, *args, **kwargs)\n",
      "/Users/choesieon/Desktop/ml/venv/lib/python3.13/site-packages/sklearn/base.py:1389: DataConversionWarning: A column-vector y was passed when a 1d array was expected. Please change the shape of y to (n_samples,), for example using ravel().\n",
      "  return fit_method(estimator, *args, **kwargs)\n",
      "/Users/choesieon/Desktop/ml/venv/lib/python3.13/site-packages/sklearn/base.py:1389: DataConversionWarning: A column-vector y was passed when a 1d array was expected. Please change the shape of y to (n_samples,), for example using ravel().\n",
      "  return fit_method(estimator, *args, **kwargs)\n",
      "/Users/choesieon/Desktop/ml/venv/lib/python3.13/site-packages/sklearn/base.py:1389: DataConversionWarning: A column-vector y was passed when a 1d array was expected. Please change the shape of y to (n_samples,), for example using ravel().\n",
      "  return fit_method(estimator, *args, **kwargs)\n",
      "/Users/choesieon/Desktop/ml/venv/lib/python3.13/site-packages/sklearn/base.py:1389: DataConversionWarning: A column-vector y was passed when a 1d array was expected. Please change the shape of y to (n_samples,), for example using ravel().\n",
      "  return fit_method(estimator, *args, **kwargs)\n"
     ]
    },
    {
     "name": "stdout",
     "output_type": "stream",
     "text": [
      "{'fit_time': array([0.23986983, 0.22554994, 0.22484207, 0.22570181, 0.22612667]), 'score_time': array([0.02537799, 0.02214193, 0.02173781, 0.02114892, 0.02148724]), 'test_score': array([0.87487179, 0.89333333, 0.89219713, 0.90759754, 0.87474333]), 'train_score': array([0.99692071, 0.99794714, 0.99769112, 0.9969215 , 0.99794767])}\n"
     ]
    }
   ],
   "source": [
    "from sklearn.ensemble import ExtraTreesClassifier\n",
    "et = ExtraTreesClassifier(n_jobs=1)\n",
    "\n",
    "scores = cross_validate(et, train_input, train_target, return_train_score=True)\n",
    "\n",
    "print(scores)"
   ]
  },
  {
   "cell_type": "markdown",
   "id": "21524f4a-7fd6-4207-9b35-815a0c9949e4",
   "metadata": {},
   "source": [
    "## 그래디언트 부스팅\n",
    "\n",
    "- 3인 결정트리 100개.\n",
    "- 질문을 조금만, 여러 번(다른느낌)\n",
    "                                                                                 "
   ]
  },
  {
   "cell_type": "code",
   "execution_count": 27,
   "id": "9f58f9e6-1d04-418c-a1c5-31c86c60afc3",
   "metadata": {},
   "outputs": [
    {
     "name": "stderr",
     "output_type": "stream",
     "text": [
      "/Users/choesieon/Desktop/ml/venv/lib/python3.13/site-packages/sklearn/preprocessing/_label.py:110: DataConversionWarning: A column-vector y was passed when a 1d array was expected. Please change the shape of y to (n_samples, ), for example using ravel().\n",
      "  y = column_or_1d(y, warn=True)\n",
      "/Users/choesieon/Desktop/ml/venv/lib/python3.13/site-packages/sklearn/preprocessing/_label.py:110: DataConversionWarning: A column-vector y was passed when a 1d array was expected. Please change the shape of y to (n_samples, ), for example using ravel().\n",
      "  y = column_or_1d(y, warn=True)\n",
      "/Users/choesieon/Desktop/ml/venv/lib/python3.13/site-packages/sklearn/preprocessing/_label.py:110: DataConversionWarning: A column-vector y was passed when a 1d array was expected. Please change the shape of y to (n_samples, ), for example using ravel().\n",
      "  y = column_or_1d(y, warn=True)\n",
      "/Users/choesieon/Desktop/ml/venv/lib/python3.13/site-packages/sklearn/preprocessing/_label.py:110: DataConversionWarning: A column-vector y was passed when a 1d array was expected. Please change the shape of y to (n_samples, ), for example using ravel().\n",
      "  y = column_or_1d(y, warn=True)\n",
      "/Users/choesieon/Desktop/ml/venv/lib/python3.13/site-packages/sklearn/preprocessing/_label.py:110: DataConversionWarning: A column-vector y was passed when a 1d array was expected. Please change the shape of y to (n_samples, ), for example using ravel().\n",
      "  y = column_or_1d(y, warn=True)\n"
     ]
    },
    {
     "name": "stdout",
     "output_type": "stream",
     "text": [
      "{'fit_time': array([1.32038403, 1.31028914, 1.30601597, 1.30625391, 1.31220818]), 'score_time': array([0.00968599, 0.009794  , 0.00920606, 0.00937581, 0.00928593]), 'test_score': array([0.86153846, 0.88      , 0.87474333, 0.88193018, 0.86447639]), 'train_score': array([0.92019502, 0.91968181, 0.92047204, 0.91765008, 0.92252437])}\n"
     ]
    }
   ],
   "source": [
    "from sklearn.ensemble import GradientBoostingClassifßier\n",
    "gb = GradientBoostingClassifier(n_estimators = 500)\n",
    "scores = cross_validate(\n",
    "    gb, train_input, train_target,\n",
    "    return_train_score=True\n",
    ")\n",
    "print(scores)"
   ]
  },
  {
   "cell_type": "code",
   "execution_count": 28,
   "id": "e4896af0-4037-42d0-8471-834d1b50f11d",
   "metadata": {},
   "outputs": [
    {
     "name": "stderr",
     "output_type": "stream",
     "text": [
      "/Users/choesieon/Desktop/ml/venv/lib/python3.13/site-packages/sklearn/utils/validation.py:1408: DataConversionWarning: A column-vector y was passed when a 1d array was expected. Please change the shape of y to (n_samples, ), for example using ravel().\n",
      "  y = column_or_1d(y, warn=True)\n",
      "/Users/choesieon/Desktop/ml/venv/lib/python3.13/site-packages/sklearn/utils/validation.py:1408: DataConversionWarning: A column-vector y was passed when a 1d array was expected. Please change the shape of y to (n_samples, ), for example using ravel().\n",
      "  y = column_or_1d(y, warn=True)\n",
      "/Users/choesieon/Desktop/ml/venv/lib/python3.13/site-packages/sklearn/utils/validation.py:1408: DataConversionWarning: A column-vector y was passed when a 1d array was expected. Please change the shape of y to (n_samples, ), for example using ravel().\n",
      "  y = column_or_1d(y, warn=True)\n",
      "/Users/choesieon/Desktop/ml/venv/lib/python3.13/site-packages/sklearn/utils/validation.py:1408: DataConversionWarning: A column-vector y was passed when a 1d array was expected. Please change the shape of y to (n_samples, ), for example using ravel().\n",
      "  y = column_or_1d(y, warn=True)\n",
      "/Users/choesieon/Desktop/ml/venv/lib/python3.13/site-packages/sklearn/utils/validation.py:1408: DataConversionWarning: A column-vector y was passed when a 1d array was expected. Please change the shape of y to (n_samples, ), for example using ravel().\n",
      "  y = column_or_1d(y, warn=True)\n"
     ]
    },
    {
     "name": "stdout",
     "output_type": "stream",
     "text": [
      "{'fit_time': array([0.979177  , 1.05038214, 1.14753413, 1.17943215, 1.18873525]), 'score_time': array([0.01363802, 0.01239586, 0.01266909, 0.01336312, 0.00852394]), 'test_score': array([0.86564103, 0.89641026, 0.87474333, 0.88809035, 0.86344969]), 'train_score': array([0.93482166, 0.94021042, 0.93509492, 0.93150334, 0.93586455])}\n"
     ]
    }
   ],
   "source": [
    "from sklearn.ensemble import HistGradientBoostingClassifier\n",
    "\n",
    "hgb = HistGradientBoostingClassifier()\n",
    "scores = cross_validate(hgb, train_input, train_target,\n",
    "                        return_train_score=True\n",
    ")\n",
    "print(scores)"
   ]
  },
  {
   "cell_type": "code",
   "execution_count": 29,
   "id": "f3ca9f3e-1a5f-455b-bad5-01cbdd15ff79",
   "metadata": {},
   "outputs": [
    {
     "name": "stderr",
     "output_type": "stream",
     "text": [
      "/Users/choesieon/Desktop/ml/venv/lib/python3.13/site-packages/sklearn/utils/validation.py:1408: DataConversionWarning: A column-vector y was passed when a 1d array was expected. Please change the shape of y to (n_samples, ), for example using ravel().\n",
      "  y = column_or_1d(y, warn=True)\n"
     ]
    },
    {
     "name": "stdout",
     "output_type": "stream",
     "text": [
      "{'importances_mean': array([0.08690476, 0.2365353 , 0.08542693]), 'importances_std': array([0.00749626, 0.00446795, 0.00075023]), 'importances': array([[0.0933908 , 0.08045977, 0.0979064 , 0.07861248, 0.08415435],\n",
      "       [0.23891626, 0.23234811, 0.24137931, 0.23994253, 0.23009031],\n",
      "       [0.08579639, 0.08518062, 0.08435961, 0.08518062, 0.08661741]])}\n"
     ]
    }
   ],
   "source": [
    "from sklearn.inspection import permutation_importance\n",
    "\n",
    "hgb.fit(train_input, train_target)\n",
    "scores = permutation_importance(hgb, train_input, train_target)\n",
    "print(scores)"
   ]
  },
  {
   "cell_type": "code",
   "execution_count": null,
   "id": "6342f895-656b-448f-8612-17eb2458422f",
   "metadata": {},
   "outputs": [],
   "source": []
  },
  {
   "cell_type": "code",
   "execution_count": null,
   "id": "bc6a5e34-50f3-47b1-8874-a8e94383397c",
   "metadata": {},
   "outputs": [],
   "source": []
  },
  {
   "cell_type": "code",
   "execution_count": null,
   "id": "a3eee062-213f-4415-822b-51ff4588f72e",
   "metadata": {},
   "outputs": [],
   "source": []
  },
  {
   "cell_type": "code",
   "execution_count": null,
   "id": "35bc311a-4fd3-46b2-9d02-d03cfefb737a",
   "metadata": {},
   "outputs": [],
   "source": []
  },
  {
   "cell_type": "code",
   "execution_count": null,
   "id": "f41cfad0-679f-4391-8eae-5a5b7262b156",
   "metadata": {},
   "outputs": [],
   "source": []
  }
 ],
 "metadata": {
  "kernelspec": {
   "display_name": "Python 3 (ipykernel)",
   "language": "python",
   "name": "python3"
  },
  "language_info": {
   "codemirror_mode": {
    "name": "ipython",
    "version": 3
   },
   "file_extension": ".py",
   "mimetype": "text/x-python",
   "name": "python",
   "nbconvert_exporter": "python",
   "pygments_lexer": "ipython3",
   "version": "3.13.2"
  }
 },
 "nbformat": 4,
 "nbformat_minor": 5
}
